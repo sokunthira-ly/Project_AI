{
 "cells": [
  {
   "cell_type": "code",
   "execution_count": null,
   "id": "1eb52623-fd48-4ceb-8dcd-6626b710c977",
   "metadata": {},
   "outputs": [],
   "source": [
    "import pandas as pd\n",
    "import numpy as np\n",
    "import seaborn as sns\n",
    "import matplotlib.pyplot as plt\n",
    "import warnings\n",
    "\n",
    "import tensorflow as tf\n",
    "from tensorflow.keras.layers import Normalization, Dense, InputLayer\n",
    "from tensorflow.keras.losses import MeanSquaredError, Huber, MeanAbsoluteError\n",
    "from tensorflow.keras.metrics import RootMeanSquaredError\n",
    "\n",
    "from sklearn.pipeline import Pipeline \n",
    "from sklearn.preprocessing import StandardScaler, OneHotEncoder, FunctionTransformer, OrdinalEncoder\n",
    "from sklearn.compose import ColumnTransformer\n",
    "from sklearn.model_selection import train_test_split\n",
    "from sklearn.svm import SVC\n",
    "from sklearn.impute import SimpleImputer\n",
    "from sklearn.metrics import confusion_matrix, classification_report\n",
    "\n",
    "import math\n",
    "\n",
    "import joblib"
   ]
  },
  {
   "cell_type": "code",
   "execution_count": null,
   "id": "753c5e5a-7a7f-44f3-bc68-2b130f3e2c22",
   "metadata": {},
   "outputs": [],
   "source": [
    "df = pd.DataFrame([])\n",
    "target = ''\n",
    "to_drop = []"
   ]
  },
  {
   "cell_type": "code",
   "execution_count": null,
   "id": "60d4e750-8d19-4e26-90e6-c6224fa3d6df",
   "metadata": {},
   "outputs": [],
   "source": [
    "def svm_prediction(_df_path = 'pancreatic_cancer_prediction.csv', _target='Survival_Status', _to_drop=[]):\n",
    "    target = _target\n",
    "    to_drop = _to_drop\n",
    "    model = joblib.load('svm_model.pkl')\n",
    "    df = pd.read_csv(_df_path)\n",
    "    df = df.sample(n=50)\n",
    "    # x = model.fit_transform(df.drop(columns=target))\n",
    "    y_pred = model.predict(df.drop(columns=target))\n",
    "    df_pred = df.copy()\n",
    "    df_pred['Predict_SVM'] = y_pred\n",
    "    return df_pred"
   ]
  },
  {
   "cell_type": "code",
   "execution_count": null,
   "id": "216e6e21-1762-4d3c-9103-ff96547afb4a",
   "metadata": {},
   "outputs": [],
   "source": [
    "def deep_prediction(_df_path = 'pancreatic_cancer_prediction.csv', _target='Survival_Status', _to_drop=[]):\n",
    "    target = _target\n",
    "    to_drop = _to_drop\n",
    "    prep = joblib.load('prepprocessor.pkl')\n",
    "    model = tf.keras.models.load_model('deep_model.keras')\n",
    "    df = pd.read_csv(_df_path)\n",
    "    df = df.sample(n=50)\n",
    "    x = prep.fit_transform(df.drop(columns=target))\n",
    "    y_pred = model.predict(x)\n",
    "    y_pred = y_pred[0:, 0]>0.5\n",
    "    df_pred = df.copy()\n",
    "    df_pred['Predict_Deep'] = y_pred\n",
    "    return df_pred"
   ]
  },
  {
   "cell_type": "code",
   "execution_count": null,
   "id": "feb7b1c4-1a85-472f-8161-33ae074003c0",
   "metadata": {},
   "outputs": [],
   "source": [
    "svm = svm_prediction('pancreatic_cancer_prediction.csv','Survival_Status',[])\n",
    "svm[['Survival_Status', 'Predict_SVM']]"
   ]
  },
  {
   "cell_type": "code",
   "execution_count": null,
   "id": "a07ff15c-04ab-47e4-bebb-e6704731b399",
   "metadata": {},
   "outputs": [],
   "source": [
    "deep = deep_prediction('pancreatic_cancer_prediction.csv','Survival_Status',[])"
   ]
  },
  {
   "cell_type": "code",
   "execution_count": null,
   "id": "b50e2a66-ebb7-4d9a-aeb6-8465a5d6fce6",
   "metadata": {},
   "outputs": [],
   "source": [
    "deep[['Survival_Status', 'Predict_Deep']]"
   ]
  }
 ],
 "metadata": {
  "kernelspec": {
   "display_name": "Python 3 (ipykernel)",
   "language": "python",
   "name": "python3"
  },
  "language_info": {
   "codemirror_mode": {
    "name": "ipython",
    "version": 3
   },
   "file_extension": ".py",
   "mimetype": "text/x-python",
   "name": "python",
   "nbconvert_exporter": "python",
   "pygments_lexer": "ipython3",
   "version": "3.12.4"
  }
 },
 "nbformat": 4,
 "nbformat_minor": 5
}
